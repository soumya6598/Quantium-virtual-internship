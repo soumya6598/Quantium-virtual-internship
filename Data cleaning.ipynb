{
  "nbformat": 4,
  "nbformat_minor": 0,
  "metadata": {
    "colab": {
      "name": "quantium .ipynb",
      "provenance": [],
      "collapsed_sections": []
    },
    "kernelspec": {
      "name": "python3",
      "display_name": "Python 3"
    }
  },
  "cells": [
    {
      "cell_type": "code",
      "metadata": {
        "id": "GaldSyfBjZl5"
      },
      "source": [
        "import pandas as pd\n",
        "import numpy as np\n",
        "import matplotlib.pyplot as plt\n",
        "import seaborn as sns \n",
        "\n",
        "import re\n",
        "import warnings\n",
        "warnings.filterwarnings(\"ignore\")\n",
        "\n",
        "from datetime import datetime ,timedelta"
      ],
      "execution_count": null,
      "outputs": []
    },
    {
      "cell_type": "code",
      "metadata": {
        "id": "EnCDFh51kAFB"
      },
      "source": [
        "customer = pd.read_csv('/content/drive/My Drive/Quantium/QVI_purchase_behaviour.csv')\n",
        "transaction = pd.read_excel('/content/drive/My Drive/Quantium/QVI_transaction_data.xlsx')"
      ],
      "execution_count": null,
      "outputs": []
    },
    {
      "cell_type": "markdown",
      "metadata": {
        "id": "jC5_czWhq0bU"
      },
      "source": [
        "# customer data preprocessing"
      ]
    },
    {
      "cell_type": "markdown",
      "metadata": {
        "id": "43HuS1Z7qYky"
      },
      "source": [
        "This data contains information about the customer's\n",
        "- Married life - single, couple, family\n",
        "- Customer segment - Premium, Mainstream, Budget\n",
        "- Age - young or old"
      ]
    },
    {
      "cell_type": "code",
      "metadata": {
        "id": "rCbI0zCsko3d",
        "colab": {
          "base_uri": "https://localhost:8080/",
          "height": 200
        },
        "outputId": "2282af1c-807c-4c3e-9b92-ba7828c42b40"
      },
      "source": [
        "customer.head()"
      ],
      "execution_count": null,
      "outputs": [
        {
          "output_type": "execute_result",
          "data": {
            "text/html": [
              "<div>\n",
              "<style scoped>\n",
              "    .dataframe tbody tr th:only-of-type {\n",
              "        vertical-align: middle;\n",
              "    }\n",
              "\n",
              "    .dataframe tbody tr th {\n",
              "        vertical-align: top;\n",
              "    }\n",
              "\n",
              "    .dataframe thead th {\n",
              "        text-align: right;\n",
              "    }\n",
              "</style>\n",
              "<table border=\"1\" class=\"dataframe\">\n",
              "  <thead>\n",
              "    <tr style=\"text-align: right;\">\n",
              "      <th></th>\n",
              "      <th>LYLTY_CARD_NBR</th>\n",
              "      <th>LIFESTAGE</th>\n",
              "      <th>PREMIUM_CUSTOMER</th>\n",
              "      <th>family_type</th>\n",
              "    </tr>\n",
              "  </thead>\n",
              "  <tbody>\n",
              "    <tr>\n",
              "      <th>0</th>\n",
              "      <td>1000</td>\n",
              "      <td>YOUNG SINGLES/COUPLES</td>\n",
              "      <td>Premium</td>\n",
              "      <td>Single/Couple</td>\n",
              "    </tr>\n",
              "    <tr>\n",
              "      <th>1</th>\n",
              "      <td>1002</td>\n",
              "      <td>YOUNG SINGLES/COUPLES</td>\n",
              "      <td>Mainstream</td>\n",
              "      <td>Single/Couple</td>\n",
              "    </tr>\n",
              "    <tr>\n",
              "      <th>2</th>\n",
              "      <td>1003</td>\n",
              "      <td>YOUNG FAMILIES</td>\n",
              "      <td>Budget</td>\n",
              "      <td>Families</td>\n",
              "    </tr>\n",
              "    <tr>\n",
              "      <th>3</th>\n",
              "      <td>1004</td>\n",
              "      <td>OLDER SINGLES/COUPLES</td>\n",
              "      <td>Mainstream</td>\n",
              "      <td>Single/Couple</td>\n",
              "    </tr>\n",
              "    <tr>\n",
              "      <th>4</th>\n",
              "      <td>1005</td>\n",
              "      <td>MIDAGE SINGLES/COUPLES</td>\n",
              "      <td>Mainstream</td>\n",
              "      <td>Single/Couple</td>\n",
              "    </tr>\n",
              "  </tbody>\n",
              "</table>\n",
              "</div>"
            ],
            "text/plain": [
              "   LYLTY_CARD_NBR               LIFESTAGE PREMIUM_CUSTOMER    family_type\n",
              "0            1000   YOUNG SINGLES/COUPLES          Premium  Single/Couple\n",
              "1            1002   YOUNG SINGLES/COUPLES       Mainstream  Single/Couple\n",
              "2            1003          YOUNG FAMILIES           Budget       Families\n",
              "3            1004   OLDER SINGLES/COUPLES       Mainstream  Single/Couple\n",
              "4            1005  MIDAGE SINGLES/COUPLES       Mainstream  Single/Couple"
            ]
          },
          "metadata": {
            "tags": []
          },
          "execution_count": 14
        }
      ]
    },
    {
      "cell_type": "code",
      "metadata": {
        "id": "a7epI15tpK_2",
        "colab": {
          "base_uri": "https://localhost:8080/"
        },
        "outputId": "ffdb23f0-ce15-4526-bd22-eaaa1c0864f8"
      },
      "source": [
        "customer.shape"
      ],
      "execution_count": null,
      "outputs": [
        {
          "output_type": "execute_result",
          "data": {
            "text/plain": [
              "(72637, 3)"
            ]
          },
          "metadata": {
            "tags": []
          },
          "execution_count": 4
        }
      ]
    },
    {
      "cell_type": "code",
      "metadata": {
        "colab": {
          "base_uri": "https://localhost:8080/",
          "height": 388
        },
        "id": "gwxNeyTernrN",
        "outputId": "7b583ddc-4052-46fc-be77-fa7754041336"
      },
      "source": [
        "# the percentage of missing observations in every columns\n",
        "\n",
        "def missing(data):\n",
        "  percentage,name = [],[]\n",
        "  for i in range(len(data.columns)):\n",
        "    percent = round(len(data[data[data.columns[i]].isnull()])/len(data)*100,2)\n",
        "    percentage.append(percent)\n",
        "    name.append(data.columns[i])  \n",
        "  import seaborn as sns\n",
        "  plt.figure(figsize=(12,6))\n",
        "  sns.barplot(y=0,x='index',data=pd.DataFrame(name,percentage).reset_index(),color='black')\n",
        "  plt.xlim(0,100)\n",
        "  plt.vlines(60,0,len(data.columns))\n",
        "  plt.ylabel('Columns')\n",
        "  plt.show()\n",
        "\n",
        "missing(customer)"
      ],
      "execution_count": null,
      "outputs": [
        {
          "output_type": "display_data",
          "data": {
            "image/png": "[encoded data removed]",
            "text/plain": [
              "<Figure size 864x432 with 1 Axes>"
            ]
          },
          "metadata": {
            "tags": [],
            "needs_background": "light"
          }
        }
      ]
    },
    {
      "cell_type": "markdown",
      "metadata": {
        "id": "_NfVCk8Vr0Fu"
      },
      "source": [
        "There is no data missing in the customer data."
      ]
    },
    {
      "cell_type": "code",
      "metadata": {
        "id": "FL8OHw7ZsW8l"
      },
      "source": [
        "# extracting the family type from the LIFESTAGE column.\n",
        "\n",
        "def seperate(col):\n",
        "  if 'SINGLES/COUPLES' in col:\n",
        "    return 'Single/Couple'\n",
        "  elif 'FAMILIES' in col:\n",
        "    return 'Families'\n",
        "  else:\n",
        "    return 'retirees'\n",
        "  \n",
        "customer['family_type']=customer['LIFESTAGE'].apply(lambda x: seperate(x))"
      ],
      "execution_count": null,
      "outputs": []
    },
    {
      "cell_type": "code",
      "metadata": {
        "id": "qcFuozRDtk6S"
      },
      "source": [
        "# extracting the age group from the LIFESTAGE column. Assuming that new family = young (not 100% true)\n",
        "\n",
        "def seperate(col):\n",
        "  if ('OLDER' in col) or ('RETIREES' in col):\n",
        "    return 'old'\n",
        "  elif 'MIDAGE' in col:\n",
        "    return 'mid'\n",
        "  else:\n",
        "    return 'young'\n",
        "  \n",
        "customer['age_group']=customer['LIFESTAGE'].apply(lambda x: seperate(x))"
      ],
      "execution_count": null,
      "outputs": []
    },
    {
      "cell_type": "code",
      "metadata": {
        "id": "pWM35HD2xMst"
      },
      "source": [
        "customer.rename(columns={'PREMIUM_CUSTOMER': 'customer_segment'}, inplace=True)"
      ],
      "execution_count": null,
      "outputs": []
    },
    {
      "cell_type": "code",
      "metadata": {
        "id": "owNaoVo1sar8"
      },
      "source": [
        "customer.drop(['LIFESTAGE'], axis=1, inplace=True)"
      ],
      "execution_count": null,
      "outputs": []
    },
    {
      "cell_type": "code",
      "metadata": {
        "id": "SA-0k0Rdudpt"
      },
      "source": [
        "customer.to_csv('/content/drive/My Drive/Quantium/QVI_purchase_behaviour.csv')"
      ],
      "execution_count": null,
      "outputs": []
    },
    {
      "cell_type": "markdown",
      "metadata": {
        "id": "ORK-tuS3q36Q"
      },
      "source": [
        "# transaction preprocessing"
      ]
    },
    {
      "cell_type": "code",
      "metadata": {
        "id": "XL-pnz4nl6h7",
        "colab": {
          "base_uri": "https://localhost:8080/",
          "height": 200
        },
        "outputId": "87c2697d-311d-4d6b-bb5b-5af638ff881d"
      },
      "source": [
        "transaction.head() "
      ],
      "execution_count": null,
      "outputs": [
        {
          "output_type": "execute_result",
          "data": {
            "text/html": [
              "<div>\n",
              "<style scoped>\n",
              "    .dataframe tbody tr th:only-of-type {\n",
              "        vertical-align: middle;\n",
              "    }\n",
              "\n",
              "    .dataframe tbody tr th {\n",
              "        vertical-align: top;\n",
              "    }\n",
              "\n",
              "    .dataframe thead th {\n",
              "        text-align: right;\n",
              "    }\n",
              "</style>\n",
              "<table border=\"1\" class=\"dataframe\">\n",
              "  <thead>\n",
              "    <tr style=\"text-align: right;\">\n",
              "      <th></th>\n",
              "      <th>DATE</th>\n",
              "      <th>STORE_NBR</th>\n",
              "      <th>LYLTY_CARD_NBR</th>\n",
              "      <th>TXN_ID</th>\n",
              "      <th>PROD_NBR</th>\n",
              "      <th>PROD_NAME</th>\n",
              "      <th>PROD_QTY</th>\n",
              "      <th>TOT_SALES</th>\n",
              "      <th>ya</th>\n",
              "    </tr>\n",
              "  </thead>\n",
              "  <tbody>\n",
              "    <tr>\n",
              "      <th>0</th>\n",
              "      <td>43390</td>\n",
              "      <td>1</td>\n",
              "      <td>1000</td>\n",
              "      <td>1</td>\n",
              "      <td>5</td>\n",
              "      <td>Natural Chip        Compny SeaSalt175g</td>\n",
              "      <td>2</td>\n",
              "      <td>6.0</td>\n",
              "      <td>True</td>\n",
              "    </tr>\n",
              "    <tr>\n",
              "      <th>1</th>\n",
              "      <td>43599</td>\n",
              "      <td>1</td>\n",
              "      <td>1307</td>\n",
              "      <td>348</td>\n",
              "      <td>66</td>\n",
              "      <td>CCs Nacho Cheese    175g</td>\n",
              "      <td>3</td>\n",
              "      <td>6.3</td>\n",
              "      <td>True</td>\n",
              "    </tr>\n",
              "    <tr>\n",
              "      <th>2</th>\n",
              "      <td>43605</td>\n",
              "      <td>1</td>\n",
              "      <td>1343</td>\n",
              "      <td>383</td>\n",
              "      <td>61</td>\n",
              "      <td>Smiths Crinkle Cut  Chips Chicken 170g</td>\n",
              "      <td>2</td>\n",
              "      <td>2.9</td>\n",
              "      <td>True</td>\n",
              "    </tr>\n",
              "    <tr>\n",
              "      <th>3</th>\n",
              "      <td>43329</td>\n",
              "      <td>2</td>\n",
              "      <td>2373</td>\n",
              "      <td>974</td>\n",
              "      <td>69</td>\n",
              "      <td>Smiths Chip Thinly  S/Cream&amp;Onion 175g</td>\n",
              "      <td>5</td>\n",
              "      <td>15.0</td>\n",
              "      <td>True</td>\n",
              "    </tr>\n",
              "    <tr>\n",
              "      <th>4</th>\n",
              "      <td>43330</td>\n",
              "      <td>2</td>\n",
              "      <td>2426</td>\n",
              "      <td>1038</td>\n",
              "      <td>108</td>\n",
              "      <td>Kettle Tortilla ChpsHny&amp;Jlpno Chili 150g</td>\n",
              "      <td>3</td>\n",
              "      <td>13.8</td>\n",
              "      <td>True</td>\n",
              "    </tr>\n",
              "  </tbody>\n",
              "</table>\n",
              "</div>"
            ],
            "text/plain": [
              "    DATE  STORE_NBR  LYLTY_CARD_NBR  ...  PROD_QTY  TOT_SALES    ya\n",
              "0  43390          1            1000  ...         2        6.0  True\n",
              "1  43599          1            1307  ...         3        6.3  True\n",
              "2  43605          1            1343  ...         2        2.9  True\n",
              "3  43329          2            2373  ...         5       15.0  True\n",
              "4  43330          2            2426  ...         3       13.8  True\n",
              "\n",
              "[5 rows x 9 columns]"
            ]
          },
          "metadata": {
            "tags": []
          },
          "execution_count": 6
        }
      ]
    },
    {
      "cell_type": "code",
      "metadata": {
        "id": "mZnMUpzBNDLv",
        "colab": {
          "base_uri": "https://localhost:8080/"
        },
        "outputId": "e56a980c-5e4f-43c6-ddcb-ad8eab135236"
      },
      "source": [
        "transaction.shape"
      ],
      "execution_count": null,
      "outputs": [
        {
          "output_type": "execute_result",
          "data": {
            "text/plain": [
              "(264836, 9)"
            ]
          },
          "metadata": {
            "tags": []
          },
          "execution_count": 15
        }
      ]
    },
    {
      "cell_type": "code",
      "metadata": {
        "id": "PH9RfHK-KHuN"
      },
      "source": [
        "# noting all the chips brand\n",
        "Chips = [\"smiths\",'red rock deli','kettle','doritos','pringles','thins','twisties','grain waves','cheezels','natural chip','CC','cc','tyrrells',\n",
        "         'infuzions','rrd','french fries','cobs','smith','infz','ww','dorito','sun','snb','tostitos','cheetos']"
      ],
      "execution_count": null,
      "outputs": []
    },
    {
      "cell_type": "code",
      "metadata": {
        "id": "AwyIrcmrl8pX"
      },
      "source": [
        "# To filter out the non chips products.\n",
        "\n",
        "def c(col):\n",
        "  for i in Chips:\n",
        "    if i in col.lower():\n",
        "      return True\n",
        "\n",
        "transaction['Chips'] = transaction['PROD_NAME'].apply(lambda x: c(x))"
      ],
      "execution_count": null,
      "outputs": []
    },
    {
      "cell_type": "code",
      "metadata": {
        "id": "y6jtHcttzKHq",
        "colab": {
          "base_uri": "https://localhost:8080/"
        },
        "outputId": "5bdab824-34d1-499b-bce1-530f84bede2b"
      },
      "source": [
        "# to find the non chips item\n",
        "\n",
        "transaction[transaction['Chips'] != True]['PROD_NAME'].unique()"
      ],
      "execution_count": null,
      "outputs": [
        {
          "output_type": "execute_result",
          "data": {
            "text/plain": [
              "array(['Old El Paso Salsa   Dip Tomato Mild 300g', 'Burger Rings 220g',\n",
              "       'GrnWves Plus Btroot & Chilli Jam 180g',\n",
              "       'Old El Paso Salsa   Dip Chnky Tom Ht300g',\n",
              "       'Woolworths Mild     Salsa 300g',\n",
              "       'Old El Paso Salsa   Dip Tomato Med 300g',\n",
              "       'Woolworths Medium   Salsa 300g', 'Woolworths Cheese   Rings 190g'],\n",
              "      dtype=object)"
            ]
          },
          "metadata": {
            "tags": []
          },
          "execution_count": 29
        }
      ]
    },
    {
      "cell_type": "code",
      "metadata": {
        "id": "27MSNaogGgwy",
        "colab": {
          "base_uri": "https://localhost:8080/",
          "height": 109
        },
        "outputId": "8df77095-aae6-4594-c018-83b31cb4957a"
      },
      "source": [
        "# this data observation is an outlier\n",
        "\n",
        "transaction[transaction['TOT_SALES'] == 650.]"
      ],
      "execution_count": null,
      "outputs": [
        {
          "output_type": "execute_result",
          "data": {
            "text/html": [
              "<div>\n",
              "<style scoped>\n",
              "    .dataframe tbody tr th:only-of-type {\n",
              "        vertical-align: middle;\n",
              "    }\n",
              "\n",
              "    .dataframe tbody tr th {\n",
              "        vertical-align: top;\n",
              "    }\n",
              "\n",
              "    .dataframe thead th {\n",
              "        text-align: right;\n",
              "    }\n",
              "</style>\n",
              "<table border=\"1\" class=\"dataframe\">\n",
              "  <thead>\n",
              "    <tr style=\"text-align: right;\">\n",
              "      <th></th>\n",
              "      <th>DATE</th>\n",
              "      <th>STORE_NBR</th>\n",
              "      <th>LYLTY_CARD_NBR</th>\n",
              "      <th>TXN_ID</th>\n",
              "      <th>PROD_NBR</th>\n",
              "      <th>PROD_NAME</th>\n",
              "      <th>PROD_QTY</th>\n",
              "      <th>TOT_SALES</th>\n",
              "      <th>ya</th>\n",
              "    </tr>\n",
              "  </thead>\n",
              "  <tbody>\n",
              "    <tr>\n",
              "      <th>69762</th>\n",
              "      <td>43331</td>\n",
              "      <td>226</td>\n",
              "      <td>226000</td>\n",
              "      <td>226201</td>\n",
              "      <td>4</td>\n",
              "      <td>Dorito Corn Chp     Supreme 380g</td>\n",
              "      <td>200</td>\n",
              "      <td>650.0</td>\n",
              "      <td>True</td>\n",
              "    </tr>\n",
              "    <tr>\n",
              "      <th>69763</th>\n",
              "      <td>43605</td>\n",
              "      <td>226</td>\n",
              "      <td>226000</td>\n",
              "      <td>226210</td>\n",
              "      <td>4</td>\n",
              "      <td>Dorito Corn Chp     Supreme 380g</td>\n",
              "      <td>200</td>\n",
              "      <td>650.0</td>\n",
              "      <td>True</td>\n",
              "    </tr>\n",
              "  </tbody>\n",
              "</table>\n",
              "</div>"
            ],
            "text/plain": [
              "        DATE  STORE_NBR  LYLTY_CARD_NBR  ...  PROD_QTY  TOT_SALES    ya\n",
              "69762  43331        226          226000  ...       200      650.0  True\n",
              "69763  43605        226          226000  ...       200      650.0  True\n",
              "\n",
              "[2 rows x 9 columns]"
            ]
          },
          "metadata": {
            "tags": []
          },
          "execution_count": 30
        }
      ]
    },
    {
      "cell_type": "code",
      "metadata": {
        "id": "xB3A967ULRkU"
      },
      "source": [
        "# subsetting all the chips products\n",
        "\n",
        "chips = transaction[transaction['Chips'] == True]"
      ],
      "execution_count": null,
      "outputs": []
    },
    {
      "cell_type": "code",
      "metadata": {
        "id": "kI4SRaN4_UPZ"
      },
      "source": [
        "# droping the chips column as of no use now\n",
        "\n",
        "chips.drop(['Chips'], axis = 1, inplace=True)"
      ],
      "execution_count": null,
      "outputs": []
    },
    {
      "cell_type": "code",
      "metadata": {
        "id": "rhAwYCAnHQtB",
        "colab": {
          "base_uri": "https://localhost:8080/",
          "height": 200
        },
        "outputId": "882d02dc-b132-43c5-e416-d53f1088e18c"
      },
      "source": [
        "chips.head()"
      ],
      "execution_count": null,
      "outputs": [
        {
          "output_type": "execute_result",
          "data": {
            "text/html": [
              "<div>\n",
              "<style scoped>\n",
              "    .dataframe tbody tr th:only-of-type {\n",
              "        vertical-align: middle;\n",
              "    }\n",
              "\n",
              "    .dataframe tbody tr th {\n",
              "        vertical-align: top;\n",
              "    }\n",
              "\n",
              "    .dataframe thead th {\n",
              "        text-align: right;\n",
              "    }\n",
              "</style>\n",
              "<table border=\"1\" class=\"dataframe\">\n",
              "  <thead>\n",
              "    <tr style=\"text-align: right;\">\n",
              "      <th></th>\n",
              "      <th>DATE</th>\n",
              "      <th>STORE_NBR</th>\n",
              "      <th>LYLTY_CARD_NBR</th>\n",
              "      <th>TXN_ID</th>\n",
              "      <th>PROD_NBR</th>\n",
              "      <th>PROD_NAME</th>\n",
              "      <th>PROD_QTY</th>\n",
              "      <th>TOT_SALES</th>\n",
              "      <th>ya</th>\n",
              "      <th>quantity</th>\n",
              "    </tr>\n",
              "  </thead>\n",
              "  <tbody>\n",
              "    <tr>\n",
              "      <th>0</th>\n",
              "      <td>43390.0</td>\n",
              "      <td>1.0</td>\n",
              "      <td>1000.0</td>\n",
              "      <td>1.0</td>\n",
              "      <td>5.0</td>\n",
              "      <td>Natural Chip        Compny SeaSalt175g</td>\n",
              "      <td>2.0</td>\n",
              "      <td>6.0</td>\n",
              "      <td>True</td>\n",
              "      <td>175</td>\n",
              "    </tr>\n",
              "    <tr>\n",
              "      <th>1</th>\n",
              "      <td>43599.0</td>\n",
              "      <td>1.0</td>\n",
              "      <td>1307.0</td>\n",
              "      <td>348.0</td>\n",
              "      <td>66.0</td>\n",
              "      <td>CCs Nacho Cheese    175g</td>\n",
              "      <td>3.0</td>\n",
              "      <td>6.3</td>\n",
              "      <td>True</td>\n",
              "      <td>175</td>\n",
              "    </tr>\n",
              "    <tr>\n",
              "      <th>2</th>\n",
              "      <td>43605.0</td>\n",
              "      <td>1.0</td>\n",
              "      <td>1343.0</td>\n",
              "      <td>383.0</td>\n",
              "      <td>61.0</td>\n",
              "      <td>Smiths Crinkle Cut  Chips Chicken 170g</td>\n",
              "      <td>2.0</td>\n",
              "      <td>2.9</td>\n",
              "      <td>True</td>\n",
              "      <td>170</td>\n",
              "    </tr>\n",
              "    <tr>\n",
              "      <th>3</th>\n",
              "      <td>43329.0</td>\n",
              "      <td>2.0</td>\n",
              "      <td>2373.0</td>\n",
              "      <td>974.0</td>\n",
              "      <td>69.0</td>\n",
              "      <td>Smiths Chip Thinly  S/Cream&amp;Onion 175g</td>\n",
              "      <td>5.0</td>\n",
              "      <td>15.0</td>\n",
              "      <td>True</td>\n",
              "      <td>175</td>\n",
              "    </tr>\n",
              "    <tr>\n",
              "      <th>4</th>\n",
              "      <td>43330.0</td>\n",
              "      <td>2.0</td>\n",
              "      <td>2426.0</td>\n",
              "      <td>1038.0</td>\n",
              "      <td>108.0</td>\n",
              "      <td>Kettle Tortilla ChpsHny&amp;Jlpno Chili 150g</td>\n",
              "      <td>3.0</td>\n",
              "      <td>13.8</td>\n",
              "      <td>True</td>\n",
              "      <td>150</td>\n",
              "    </tr>\n",
              "  </tbody>\n",
              "</table>\n",
              "</div>"
            ],
            "text/plain": [
              "      DATE  STORE_NBR  LYLTY_CARD_NBR  ...  TOT_SALES    ya quantity\n",
              "0  43390.0        1.0          1000.0  ...        6.0  True      175\n",
              "1  43599.0        1.0          1307.0  ...        6.3  True      175\n",
              "2  43605.0        1.0          1343.0  ...        2.9  True      170\n",
              "3  43329.0        2.0          2373.0  ...       15.0  True      175\n",
              "4  43330.0        2.0          2426.0  ...       13.8  True      150\n",
              "\n",
              "[5 rows x 10 columns]"
            ]
          },
          "metadata": {
            "tags": []
          },
          "execution_count": 39
        }
      ]
    },
    {
      "cell_type": "code",
      "metadata": {
        "id": "iwUWLru-Px_w"
      },
      "source": [
        "# extracting the quantity of chips packet from product name\n",
        "\n",
        "# re.sub(r'[a-z,A-Z &]','','Thins Potato Chips  Hot & Spicy 175g') for extracting weight can also use this code.\n",
        "\n",
        "def change(col):\n",
        "  try:\n",
        "    return re.findall('[0-9]{2,3}',col)[0]\n",
        "  except:\n",
        "    return 0\n",
        "\n",
        "chips['quantity'] = chips['PROD_NAME'].apply(lambda x: change(x))"
      ],
      "execution_count": null,
      "outputs": []
    },
    {
      "cell_type": "code",
      "metadata": {
        "id": "06EMVQ1N91eL"
      },
      "source": [
        "chips.dropna(inplace=True)"
      ],
      "execution_count": null,
      "outputs": []
    },
    {
      "cell_type": "code",
      "metadata": {
        "id": "3bg_gmbl2bU2"
      },
      "source": [
        "def change(col):\n",
        "  for i in Chips:\n",
        "    if i in col.lower():\n",
        "      return i\n",
        "    \n",
        "chips['brand'] = chips['PROD_NAME'].apply(lambda x: change(x))"
      ],
      "execution_count": null,
      "outputs": []
    },
    {
      "cell_type": "code",
      "metadata": {
        "id": "aLM2lQNsQXwU"
      },
      "source": [
        "Chips = [\"smiths\",'red rock deli','kettle','doritos','pringles','thins','twisties','grain waves','cheezels','natural chip','CC','cc','tyrrells',\n",
        "         'infuzions','rrd','french fries','cobs','smith','infz','ww','dorito','sun','snb','tostitos','cheetos']"
      ],
      "execution_count": null,
      "outputs": []
    },
    {
      "cell_type": "code",
      "metadata": {
        "id": "j703nkUl3FHL"
      },
      "source": [
        "# could not come up with a better, more efficient way.\n",
        "\n",
        "def change(col):\n",
        "  if 'smi' in col:\n",
        "    return 'Smiths'\n",
        "  elif col == 'rrd':\n",
        "    return 'Red Rock Deli'\n",
        "  elif col == 'red rock':\n",
        "    return 'Red Rock Deli'\n",
        "  elif 'cc' in col.lower():\n",
        "    return 'CC'\n",
        "  elif 'dor' in col:\n",
        "    return 'Doritos'\n",
        "  elif col == 'inf':\n",
        "    return 'Infuzions'\n",
        "  elif col == 'kettle':\n",
        "    return 'Kettle' \n",
        "  elif col == 'pringles':\n",
        "    return 'Pringles'\n",
        "  elif col == 'thins':\n",
        "    return 'Thins'\n",
        "  elif col == 'twisties':\n",
        "    return 'Twisties'\n",
        "  elif col == 'cheezels':\n",
        "    return 'Cheezels' \n",
        "  elif col == 'grain waves':\n",
        "    return 'Grain Waves'\n",
        "  elif col == 'natural chip':\n",
        "    return 'Natural Chip' \n",
        "  elif col == 'french fries':\n",
        "    return 'French Fries'\n",
        "  elif col == 'cobs':\n",
        "    return 'Cobs'\n",
        "  elif col == 'ww':\n",
        "    return 'WW'\n",
        "  elif col == 'sun':\n",
        "    return 'Sunbite' \n",
        "  elif col == 'snb':\n",
        "    return 'Sunbite'\n",
        "  elif col == 'tostitos':\n",
        "    return 'Tostitos' \n",
        "  elif col == 'cheetos':\n",
        "    return 'Cheetos' \n",
        "  else:\n",
        "    return col\n",
        "\n",
        "chips['brand'] = chips['brand'].apply(lambda x: change(x))"
      ],
      "execution_count": null,
      "outputs": []
    },
    {
      "cell_type": "code",
      "metadata": {
        "id": "xD6DOQCPoBkG",
        "colab": {
          "base_uri": "https://localhost:8080/"
        },
        "outputId": "026192d1-5ce5-473b-cf64-f04a91fe069a"
      },
      "source": [
        "chips.shape"
      ],
      "execution_count": null,
      "outputs": [
        {
          "output_type": "execute_result",
          "data": {
            "text/plain": [
              "(248043, 11)"
            ]
          },
          "metadata": {
            "tags": []
          },
          "execution_count": 49
        }
      ]
    },
    {
      "cell_type": "code",
      "metadata": {
        "id": "PyNX08IkvQY3"
      },
      "source": [
        "# changing the date column in datetime format\n",
        "\n",
        "from datetime import timedelta\n",
        "\n",
        "def change_dates(col):\n",
        "  base_date = pd.Timestamp('1900-01-01')  # check this!\n",
        "  return base_date + timedelta(days=col)\n",
        "\n",
        "chips['DATE'] = chips['DATE'].apply(lambda x: change_dates(x))"
      ],
      "execution_count": null,
      "outputs": []
    },
    {
      "cell_type": "code",
      "metadata": {
        "id": "EvE7aZwXvWVb"
      },
      "source": [
        "# calculating the month and year from the date column\n",
        "\n",
        "chips['month']=chips['DATE'].apply(lambda x: x.month)\n",
        "chips['year']=chips['DATE'].apply(lambda x: x.year)"
      ],
      "execution_count": null,
      "outputs": []
    },
    {
      "cell_type": "markdown",
      "metadata": {
        "id": "FZiDAuumvdfU"
      },
      "source": [
        "# merging the two data"
      ]
    },
    {
      "cell_type": "code",
      "metadata": {
        "id": "7feUZdqW6YV2"
      },
      "source": [
        "merged = chips.set_index('LYLTY_CARD_NBR').join(customer.set_index('LYLTY_CARD_NBR'))"
      ],
      "execution_count": null,
      "outputs": []
    },
    {
      "cell_type": "code",
      "metadata": {
        "colab": {
          "base_uri": "https://localhost:8080/",
          "height": 173
        },
        "id": "cgu00ZH3-S7X",
        "outputId": "822d8e8a-cd99-4e04-ab36-363163150039"
      },
      "source": [
        "merged.head(2)"
      ],
      "execution_count": null,
      "outputs": [
        {
          "output_type": "execute_result",
          "data": {
            "text/html": [
              "<div>\n",
              "<style scoped>\n",
              "    .dataframe tbody tr th:only-of-type {\n",
              "        vertical-align: middle;\n",
              "    }\n",
              "\n",
              "    .dataframe tbody tr th {\n",
              "        vertical-align: top;\n",
              "    }\n",
              "\n",
              "    .dataframe thead th {\n",
              "        text-align: right;\n",
              "    }\n",
              "</style>\n",
              "<table border=\"1\" class=\"dataframe\">\n",
              "  <thead>\n",
              "    <tr style=\"text-align: right;\">\n",
              "      <th></th>\n",
              "      <th>DATE</th>\n",
              "      <th>STORE_NBR</th>\n",
              "      <th>TXN_ID</th>\n",
              "      <th>PROD_NBR</th>\n",
              "      <th>PROD_NAME</th>\n",
              "      <th>PROD_QTY</th>\n",
              "      <th>TOT_SALES</th>\n",
              "      <th>ya</th>\n",
              "      <th>quantity</th>\n",
              "      <th>brand</th>\n",
              "      <th>customer_segment</th>\n",
              "      <th>age_group</th>\n",
              "      <th>family_type</th>\n",
              "    </tr>\n",
              "    <tr>\n",
              "      <th>LYLTY_CARD_NBR</th>\n",
              "      <th></th>\n",
              "      <th></th>\n",
              "      <th></th>\n",
              "      <th></th>\n",
              "      <th></th>\n",
              "      <th></th>\n",
              "      <th></th>\n",
              "      <th></th>\n",
              "      <th></th>\n",
              "      <th></th>\n",
              "      <th></th>\n",
              "      <th></th>\n",
              "      <th></th>\n",
              "    </tr>\n",
              "  </thead>\n",
              "  <tbody>\n",
              "    <tr>\n",
              "      <th>1000.0</th>\n",
              "      <td>43390.0</td>\n",
              "      <td>1.0</td>\n",
              "      <td>1.0</td>\n",
              "      <td>5.0</td>\n",
              "      <td>Natural Chip        Compny SeaSalt175g</td>\n",
              "      <td>2.0</td>\n",
              "      <td>6.0</td>\n",
              "      <td>True</td>\n",
              "      <td>175</td>\n",
              "      <td>Natural Chip</td>\n",
              "      <td>Premium</td>\n",
              "      <td>young</td>\n",
              "      <td>Single/Couple</td>\n",
              "    </tr>\n",
              "    <tr>\n",
              "      <th>1002.0</th>\n",
              "      <td>43359.0</td>\n",
              "      <td>1.0</td>\n",
              "      <td>2.0</td>\n",
              "      <td>58.0</td>\n",
              "      <td>Red Rock Deli Chikn&amp;Garlic Aioli 150g</td>\n",
              "      <td>1.0</td>\n",
              "      <td>2.7</td>\n",
              "      <td>True</td>\n",
              "      <td>150</td>\n",
              "      <td>red rock deli</td>\n",
              "      <td>Mainstream</td>\n",
              "      <td>young</td>\n",
              "      <td>Single/Couple</td>\n",
              "    </tr>\n",
              "  </tbody>\n",
              "</table>\n",
              "</div>"
            ],
            "text/plain": [
              "                   DATE  STORE_NBR  ...  age_group    family_type\n",
              "LYLTY_CARD_NBR                      ...                          \n",
              "1000.0          43390.0        1.0  ...      young  Single/Couple\n",
              "1002.0          43359.0        1.0  ...      young  Single/Couple\n",
              "\n",
              "[2 rows x 13 columns]"
            ]
          },
          "metadata": {
            "tags": []
          },
          "execution_count": 52
        }
      ]
    },
    {
      "cell_type": "code",
      "metadata": {
        "id": "-wNufUDrnhQ_"
      },
      "source": [
        "merged.to_csv('/content/drive/My Drive/Quantium/final.csv')"
      ],
      "execution_count": null,
      "outputs": []
    }
  ]
}