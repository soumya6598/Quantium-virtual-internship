{
  "nbformat": 4,
  "nbformat_minor": 0,
  "metadata": {
    "colab": {
      "name": "Copy of quantium .ipynb",
      "provenance": [],
      "collapsed_sections": []
    },
    "kernelspec": {
      "name": "python3",
      "display_name": "Python 3"
    }
  },
  "cells": [
    {
      "cell_type": "code",
      "metadata": {
        "id": "GaldSyfBjZl5"
      },
      "source": [
        "import pandas as pd\n",
        "import numpy as np\n",
        "import matplotlib.pyplot as plt\n",
        "import seaborn as sns \n",
        "\n",
        "import re\n",
        "import warnings\n",
        "warnings.filterwarnings(\"ignore\")\n",
        "\n",
        "from datetime import datetime ,timedelta"
      ],
      "execution_count": 1,
      "outputs": []
    },
    {
      "cell_type": "markdown",
      "metadata": {
        "id": "I_cTrWUKw-eD"
      },
      "source": [
        "Examinign the relationship between Family type and Customer Segment"
      ]
    },
    {
      "cell_type": "code",
      "metadata": {
        "id": "Kuo7HVZISXQq"
      },
      "source": [
        "# the customer data\n",
        "customer = pd.read_csv('/content/drive/My Drive/Quantium/QVI_purchase_behaviour.csv')"
      ],
      "execution_count": null,
      "outputs": []
    },
    {
      "cell_type": "code",
      "metadata": {
        "id": "jP2zj3KIUj6r",
        "colab": {
          "base_uri": "https://localhost:8080/",
          "height": 170
        },
        "outputId": "b05cf106-37f1-4c13-d3dd-85b214966c7c"
      },
      "source": [
        "crosstab = pd.crosstab(customer[\"family_type\"], customer[\"PREMIUM_CUSTOMER\"])\n",
        "\n",
        "crosstab"
      ],
      "execution_count": null,
      "outputs": [
        {
          "output_type": "execute_result",
          "data": {
            "text/html": [
              "<div>\n",
              "<style scoped>\n",
              "    .dataframe tbody tr th:only-of-type {\n",
              "        vertical-align: middle;\n",
              "    }\n",
              "\n",
              "    .dataframe tbody tr th {\n",
              "        vertical-align: top;\n",
              "    }\n",
              "\n",
              "    .dataframe thead th {\n",
              "        text-align: right;\n",
              "    }\n",
              "</style>\n",
              "<table border=\"1\" class=\"dataframe\">\n",
              "  <thead>\n",
              "    <tr style=\"text-align: right;\">\n",
              "      <th>PREMIUM_CUSTOMER</th>\n",
              "      <th>Budget</th>\n",
              "      <th>Mainstream</th>\n",
              "      <th>Premium</th>\n",
              "    </tr>\n",
              "    <tr>\n",
              "      <th>family_type</th>\n",
              "      <th></th>\n",
              "      <th></th>\n",
              "      <th></th>\n",
              "    </tr>\n",
              "  </thead>\n",
              "  <tbody>\n",
              "    <tr>\n",
              "      <th>Families</th>\n",
              "      <td>9804</td>\n",
              "      <td>6408</td>\n",
              "      <td>5295</td>\n",
              "    </tr>\n",
              "    <tr>\n",
              "      <th>Single/Couple</th>\n",
              "      <td>10212</td>\n",
              "      <td>16358</td>\n",
              "      <td>9755</td>\n",
              "    </tr>\n",
              "    <tr>\n",
              "      <th>retirees</th>\n",
              "      <td>4454</td>\n",
              "      <td>6479</td>\n",
              "      <td>3872</td>\n",
              "    </tr>\n",
              "  </tbody>\n",
              "</table>\n",
              "</div>"
            ],
            "text/plain": [
              "PREMIUM_CUSTOMER  Budget  Mainstream  Premium\n",
              "family_type                                  \n",
              "Families            9804        6408     5295\n",
              "Single/Couple      10212       16358     9755\n",
              "retirees            4454        6479     3872"
            ]
          },
          "metadata": {
            "tags": []
          },
          "execution_count": 20
        }
      ]
    },
    {
      "cell_type": "code",
      "metadata": {
        "id": "WETw1GjIVVaG",
        "colab": {
          "base_uri": "https://localhost:8080/"
        },
        "outputId": "afe7fec9-94d0-4871-9ee7-ab7965206777"
      },
      "source": [
        "chi2, p, dof, ex = chi2_contingency(crosstab)\n",
        "print(chi2, '{:.10f}'.format(p))"
      ],
      "execution_count": null,
      "outputs": [
        {
          "output_type": "stream",
          "text": [
            "2157.428891675407 0.0000000000\n"
          ],
          "name": "stdout"
        }
      ]
    },
    {
      "cell_type": "code",
      "metadata": {
        "id": "dZE-s7XcY4vf",
        "colab": {
          "base_uri": "https://localhost:8080/"
        },
        "outputId": "cee40344-93a8-463c-ca22-2b30d64a2f23"
      },
      "source": [
        "!pip install researchpy"
      ],
      "execution_count": null,
      "outputs": [
        {
          "output_type": "stream",
          "text": [
            "Collecting researchpy\n",
            "  Downloading https://files.pythonhosted.org/packages/4b/a3/b16ea25a5416f7c35824b2fc3ee1cdc9f9d8ab6d9fc4119679504d43b8a8/researchpy-0.2.3-py3-none-any.whl\n",
            "Requirement already satisfied: scipy in /usr/local/lib/python3.6/dist-packages (from researchpy) (1.4.1)\n",
            "Requirement already satisfied: numpy in /usr/local/lib/python3.6/dist-packages (from researchpy) (1.18.5)\n",
            "Requirement already satisfied: pandas in /usr/local/lib/python3.6/dist-packages (from researchpy) (1.1.3)\n",
            "Requirement already satisfied: statsmodels in /usr/local/lib/python3.6/dist-packages (from researchpy) (0.10.2)\n",
            "Requirement already satisfied: python-dateutil>=2.7.3 in /usr/local/lib/python3.6/dist-packages (from pandas->researchpy) (2.8.1)\n",
            "Requirement already satisfied: pytz>=2017.2 in /usr/local/lib/python3.6/dist-packages (from pandas->researchpy) (2018.9)\n",
            "Requirement already satisfied: patsy>=0.4.0 in /usr/local/lib/python3.6/dist-packages (from statsmodels->researchpy) (0.5.1)\n",
            "Requirement already satisfied: six>=1.5 in /usr/local/lib/python3.6/dist-packages (from python-dateutil>=2.7.3->pandas->researchpy) (1.15.0)\n",
            "Installing collected packages: researchpy\n",
            "Successfully installed researchpy-0.2.3\n"
          ],
          "name": "stdout"
        }
      ]
    },
    {
      "cell_type": "code",
      "metadata": {
        "id": "WtJ6kZvwZhuJ",
        "colab": {
          "base_uri": "https://localhost:8080/"
        },
        "outputId": "763d305f-9cc7-4b6d-b189-be7284c049a4"
      },
      "source": [
        "import researchpy as rp"
      ],
      "execution_count": null,
      "outputs": [
        {
          "output_type": "stream",
          "text": [
            "/usr/local/lib/python3.6/dist-packages/statsmodels/tools/_testing.py:19: FutureWarning: pandas.util.testing is deprecated. Use the functions in the public API at pandas.testing instead.\n",
            "  import pandas.util.testing as tm\n"
          ],
          "name": "stderr"
        }
      ]
    },
    {
      "cell_type": "code",
      "metadata": {
        "id": "pxB5I1xfY367",
        "colab": {
          "base_uri": "https://localhost:8080/",
          "height": 231
        },
        "outputId": "e00589cd-0d43-4269-e5b0-4d2dd3348c52"
      },
      "source": [
        "crosstab, test_results, expected = rp.crosstab(customer[\"family_type\"], customer[\"PREMIUM_CUSTOMER\"],\n",
        "                                               test= \"chi-square\",\n",
        "                                               expected_freqs= True,\n",
        "                                               prop= \"cell\")\n",
        "\n",
        "crosstab"
      ],
      "execution_count": null,
      "outputs": [
        {
          "output_type": "execute_result",
          "data": {
            "text/html": [
              "<div>\n",
              "<style scoped>\n",
              "    .dataframe tbody tr th:only-of-type {\n",
              "        vertical-align: middle;\n",
              "    }\n",
              "\n",
              "    .dataframe tbody tr th {\n",
              "        vertical-align: top;\n",
              "    }\n",
              "\n",
              "    .dataframe thead tr th {\n",
              "        text-align: left;\n",
              "    }\n",
              "\n",
              "    .dataframe thead tr:last-of-type th {\n",
              "        text-align: right;\n",
              "    }\n",
              "</style>\n",
              "<table border=\"1\" class=\"dataframe\">\n",
              "  <thead>\n",
              "    <tr>\n",
              "      <th></th>\n",
              "      <th colspan=\"4\" halign=\"left\">PREMIUM_CUSTOMER</th>\n",
              "    </tr>\n",
              "    <tr>\n",
              "      <th>PREMIUM_CUSTOMER</th>\n",
              "      <th>Budget</th>\n",
              "      <th>Mainstream</th>\n",
              "      <th>Premium</th>\n",
              "      <th>All</th>\n",
              "    </tr>\n",
              "    <tr>\n",
              "      <th>family_type</th>\n",
              "      <th></th>\n",
              "      <th></th>\n",
              "      <th></th>\n",
              "      <th></th>\n",
              "    </tr>\n",
              "  </thead>\n",
              "  <tbody>\n",
              "    <tr>\n",
              "      <th>Families</th>\n",
              "      <td>13.50</td>\n",
              "      <td>8.82</td>\n",
              "      <td>7.29</td>\n",
              "      <td>29.61</td>\n",
              "    </tr>\n",
              "    <tr>\n",
              "      <th>Single/Couple</th>\n",
              "      <td>14.06</td>\n",
              "      <td>22.52</td>\n",
              "      <td>13.43</td>\n",
              "      <td>50.01</td>\n",
              "    </tr>\n",
              "    <tr>\n",
              "      <th>retirees</th>\n",
              "      <td>6.13</td>\n",
              "      <td>8.92</td>\n",
              "      <td>5.33</td>\n",
              "      <td>20.38</td>\n",
              "    </tr>\n",
              "    <tr>\n",
              "      <th>All</th>\n",
              "      <td>33.69</td>\n",
              "      <td>40.26</td>\n",
              "      <td>26.05</td>\n",
              "      <td>100.00</td>\n",
              "    </tr>\n",
              "  </tbody>\n",
              "</table>\n",
              "</div>"
            ],
            "text/plain": [
              "                 PREMIUM_CUSTOMER                           \n",
              "PREMIUM_CUSTOMER           Budget Mainstream Premium     All\n",
              "family_type                                                 \n",
              "Families                    13.50       8.82    7.29   29.61\n",
              "Single/Couple               14.06      22.52   13.43   50.01\n",
              "retirees                     6.13       8.92    5.33   20.38\n",
              "All                         33.69      40.26   26.05  100.00"
            ]
          },
          "metadata": {
            "tags": []
          },
          "execution_count": 29
        }
      ]
    },
    {
      "cell_type": "code",
      "metadata": {
        "id": "Fwf8PWUKZpdl",
        "colab": {
          "base_uri": "https://localhost:8080/",
          "height": 139
        },
        "outputId": "b14e8f10-4bea-4e99-8c5a-cfc3b2d09483"
      },
      "source": [
        "test_results"
      ],
      "execution_count": null,
      "outputs": [
        {
          "output_type": "execute_result",
          "data": {
            "text/html": [
              "<div>\n",
              "<style scoped>\n",
              "    .dataframe tbody tr th:only-of-type {\n",
              "        vertical-align: middle;\n",
              "    }\n",
              "\n",
              "    .dataframe tbody tr th {\n",
              "        vertical-align: top;\n",
              "    }\n",
              "\n",
              "    .dataframe thead th {\n",
              "        text-align: right;\n",
              "    }\n",
              "</style>\n",
              "<table border=\"1\" class=\"dataframe\">\n",
              "  <thead>\n",
              "    <tr style=\"text-align: right;\">\n",
              "      <th></th>\n",
              "      <th>Chi-square test</th>\n",
              "      <th>results</th>\n",
              "    </tr>\n",
              "  </thead>\n",
              "  <tbody>\n",
              "    <tr>\n",
              "      <th>0</th>\n",
              "      <td>Pearson Chi-square ( 4.0) =</td>\n",
              "      <td>2157.4289</td>\n",
              "    </tr>\n",
              "    <tr>\n",
              "      <th>1</th>\n",
              "      <td>p-value =</td>\n",
              "      <td>0.0000</td>\n",
              "    </tr>\n",
              "    <tr>\n",
              "      <th>2</th>\n",
              "      <td>Cramer's V =</td>\n",
              "      <td>0.1219</td>\n",
              "    </tr>\n",
              "  </tbody>\n",
              "</table>\n",
              "</div>"
            ],
            "text/plain": [
              "                Chi-square test    results\n",
              "0  Pearson Chi-square ( 4.0) =   2157.4289\n",
              "1                    p-value =      0.0000\n",
              "2                 Cramer's V =      0.1219"
            ]
          },
          "metadata": {
            "tags": []
          },
          "execution_count": 30
        }
      ]
    },
    {
      "cell_type": "markdown",
      "metadata": {
        "id": "opXRkh1WZuP7"
      },
      "source": [
        "Phi and Cramer's V =\tInterpretation\n",
        " - 0.25 =\tVery strong\n",
        "\n",
        " - 0.15\t= Strong\n",
        "\n",
        " - 0.10\t= Moderate\n",
        "\n",
        " - 0.05\t= Weak\n",
        "\n",
        " - 0\t = No or very weak"
      ]
    },
    {
      "cell_type": "code",
      "metadata": {
        "id": "qii0v-aNP99l"
      },
      "source": [
        "import pandas as pd\n",
        "import numpy as np\n",
        "from scipy.stats import chi2_contingency\n",
        "from scipy.stats import norm\n",
        "import math\n",
        "\n",
        "# Pivoting the dataframe and assigning Age as the index, Status as the column headings, and percentage of respondents as the values\n",
        "pivot_df = customer.pivot(index='family_type', columns='customer_segment')"
      ],
      "execution_count": null,
      "outputs": []
    },
    {
      "cell_type": "code",
      "metadata": {
        "id": "tSEikjUfKIf5",
        "colab": {
          "base_uri": "https://localhost:8080/",
          "height": 313
        },
        "outputId": "0cbac5da-4a02-4009-b7e4-4ab55bbcc8c2"
      },
      "source": [
        "sns.countplot(x='family_type',data=customer, hue='customer_segment')\n",
        "plt.title('distribution of customer segment in family types')"
      ],
      "execution_count": null,
      "outputs": [
        {
          "output_type": "execute_result",
          "data": {
            "text/plain": [
              "Text(0.5, 1.0, 'distribution of customer segment in family types')"
            ]
          },
          "metadata": {
            "tags": []
          },
          "execution_count": 22
        },
        {
          "output_type": "display_data",
          "data": {
            "image/png": "[encoded data removed]",
            "text/plain": [
              "<Figure size 432x288 with 1 Axes>"
            ]
          },
          "metadata": {
            "tags": [],
            "needs_background": "light"
          }
        }
      ]
    },
    {
      "cell_type": "code",
      "metadata": {
        "id": "7S45M6IJrkbb",
        "colab": {
          "base_uri": "https://localhost:8080/",
          "height": 322
        },
        "outputId": "9631c672-2baf-462f-e93c-1696a5c84e86"
      },
      "source": [
        "# seeing the percentage distribution of customer segment in different family types\n",
        "\n",
        "t = customer.groupby('family_type').size().to_frame().rename(columns={0:'count'})\n",
        "\n",
        "new = customer.groupby(['family_type','customer_segment']).size().to_frame().join(t,how='left')\n",
        "new['percentage'] = new[0]/new['count']*100\n",
        "new = new.reset_index()\n",
        "new"
      ],
      "execution_count": null,
      "outputs": [
        {
          "output_type": "execute_result",
          "data": {
            "text/html": [
              "<div>\n",
              "<style scoped>\n",
              "    .dataframe tbody tr th:only-of-type {\n",
              "        vertical-align: middle;\n",
              "    }\n",
              "\n",
              "    .dataframe tbody tr th {\n",
              "        vertical-align: top;\n",
              "    }\n",
              "\n",
              "    .dataframe thead th {\n",
              "        text-align: right;\n",
              "    }\n",
              "</style>\n",
              "<table border=\"1\" class=\"dataframe\">\n",
              "  <thead>\n",
              "    <tr style=\"text-align: right;\">\n",
              "      <th></th>\n",
              "      <th>family_type</th>\n",
              "      <th>customer_segment</th>\n",
              "      <th>0</th>\n",
              "      <th>count</th>\n",
              "      <th>percentage</th>\n",
              "    </tr>\n",
              "  </thead>\n",
              "  <tbody>\n",
              "    <tr>\n",
              "      <th>0</th>\n",
              "      <td>Families</td>\n",
              "      <td>Budget</td>\n",
              "      <td>9804</td>\n",
              "      <td>21507</td>\n",
              "      <td>45.585158</td>\n",
              "    </tr>\n",
              "    <tr>\n",
              "      <th>1</th>\n",
              "      <td>Families</td>\n",
              "      <td>Mainstream</td>\n",
              "      <td>6408</td>\n",
              "      <td>21507</td>\n",
              "      <td>29.794950</td>\n",
              "    </tr>\n",
              "    <tr>\n",
              "      <th>2</th>\n",
              "      <td>Families</td>\n",
              "      <td>Premium</td>\n",
              "      <td>5295</td>\n",
              "      <td>21507</td>\n",
              "      <td>24.619891</td>\n",
              "    </tr>\n",
              "    <tr>\n",
              "      <th>3</th>\n",
              "      <td>Single/Couple</td>\n",
              "      <td>Budget</td>\n",
              "      <td>10212</td>\n",
              "      <td>36325</td>\n",
              "      <td>28.112870</td>\n",
              "    </tr>\n",
              "    <tr>\n",
              "      <th>4</th>\n",
              "      <td>Single/Couple</td>\n",
              "      <td>Mainstream</td>\n",
              "      <td>16358</td>\n",
              "      <td>36325</td>\n",
              "      <td>45.032347</td>\n",
              "    </tr>\n",
              "    <tr>\n",
              "      <th>5</th>\n",
              "      <td>Single/Couple</td>\n",
              "      <td>Premium</td>\n",
              "      <td>9755</td>\n",
              "      <td>36325</td>\n",
              "      <td>26.854783</td>\n",
              "    </tr>\n",
              "    <tr>\n",
              "      <th>6</th>\n",
              "      <td>retirees</td>\n",
              "      <td>Budget</td>\n",
              "      <td>4454</td>\n",
              "      <td>14805</td>\n",
              "      <td>30.084431</td>\n",
              "    </tr>\n",
              "    <tr>\n",
              "      <th>7</th>\n",
              "      <td>retirees</td>\n",
              "      <td>Mainstream</td>\n",
              "      <td>6479</td>\n",
              "      <td>14805</td>\n",
              "      <td>43.762242</td>\n",
              "    </tr>\n",
              "    <tr>\n",
              "      <th>8</th>\n",
              "      <td>retirees</td>\n",
              "      <td>Premium</td>\n",
              "      <td>3872</td>\n",
              "      <td>14805</td>\n",
              "      <td>26.153327</td>\n",
              "    </tr>\n",
              "  </tbody>\n",
              "</table>\n",
              "</div>"
            ],
            "text/plain": [
              "     family_type customer_segment      0  count  percentage\n",
              "0       Families           Budget   9804  21507   45.585158\n",
              "1       Families       Mainstream   6408  21507   29.794950\n",
              "2       Families          Premium   5295  21507   24.619891\n",
              "3  Single/Couple           Budget  10212  36325   28.112870\n",
              "4  Single/Couple       Mainstream  16358  36325   45.032347\n",
              "5  Single/Couple          Premium   9755  36325   26.854783\n",
              "6       retirees           Budget   4454  14805   30.084431\n",
              "7       retirees       Mainstream   6479  14805   43.762242\n",
              "8       retirees          Premium   3872  14805   26.153327"
            ]
          },
          "metadata": {
            "tags": []
          },
          "execution_count": 20
        }
      ]
    },
    {
      "cell_type": "markdown",
      "metadata": {
        "id": "Ksp4ILdPKyV6"
      },
      "source": [
        "**Hypothesis** -> families = budget, single/couple = mainstream, retirees are 43% mainstream. distribution of premium is same throughout"
      ]
    },
    {
      "cell_type": "code",
      "metadata": {
        "id": "qy-t_99qqyGP",
        "colab": {
          "base_uri": "https://localhost:8080/",
          "height": 366
        },
        "outputId": "97cfdffc-5e5b-4b2f-f8e6-ba0ee586d2ad"
      },
      "source": [
        "plt.figure(figsize=(17,5))\n",
        "sns.barplot(x='customer_segment',y='percentage',hue='family_type',data=new) # add hue to disect the view and add the legend\n",
        "plt.legend(loc='center', bbox_to_anchor=(1.1, 0.5)) \n",
        "plt.title('% distribution of Family types')"
      ],
      "execution_count": null,
      "outputs": [
        {
          "output_type": "execute_result",
          "data": {
            "text/plain": [
              "Text(0.5, 1.0, '% distribution of Family types')"
            ]
          },
          "metadata": {
            "tags": []
          },
          "execution_count": 23
        },
        {
          "output_type": "display_data",
          "data": {
            "image/png": "[encoded data removed]",
            "text/plain": [
              "<Figure size 1224x360 with 1 Axes>"
            ]
          },
          "metadata": {
            "tags": [],
            "needs_background": "light"
          }
        }
      ]
    },
    {
      "cell_type": "markdown",
      "metadata": {
        "id": "tlupF8LNzGII"
      },
      "source": [
        "Relationship between Customer segment and age group"
      ]
    },
    {
      "cell_type": "code",
      "metadata": {
        "colab": {
          "base_uri": "https://localhost:8080/",
          "height": 322
        },
        "id": "LuWjSvbfzFxU",
        "outputId": "ccca1dec-c6fd-47ae-fc6d-ceb5f1ac7dbc"
      },
      "source": [
        "# seeing the percentage distribution of customer segment in different family types\n",
        "\n",
        "t = customer.groupby('age_group').size().to_frame().rename(columns={0:'count'})\n",
        "\n",
        "new = customer.groupby(['age_group','customer_segment']).size().to_frame().join(t,how='left')\n",
        "new['percentage'] = new[0]/new['count']*100\n",
        "new = new.reset_index()\n",
        "new"
      ],
      "execution_count": null,
      "outputs": [
        {
          "output_type": "execute_result",
          "data": {
            "text/html": [
              "<div>\n",
              "<style scoped>\n",
              "    .dataframe tbody tr th:only-of-type {\n",
              "        vertical-align: middle;\n",
              "    }\n",
              "\n",
              "    .dataframe tbody tr th {\n",
              "        vertical-align: top;\n",
              "    }\n",
              "\n",
              "    .dataframe thead th {\n",
              "        text-align: right;\n",
              "    }\n",
              "</style>\n",
              "<table border=\"1\" class=\"dataframe\">\n",
              "  <thead>\n",
              "    <tr style=\"text-align: right;\">\n",
              "      <th></th>\n",
              "      <th>age_group</th>\n",
              "      <th>customer_segment</th>\n",
              "      <th>0</th>\n",
              "      <th>count</th>\n",
              "      <th>percentage</th>\n",
              "    </tr>\n",
              "  </thead>\n",
              "  <tbody>\n",
              "    <tr>\n",
              "      <th>0</th>\n",
              "      <td>mid</td>\n",
              "      <td>Budget</td>\n",
              "      <td>1504</td>\n",
              "      <td>7275</td>\n",
              "      <td>20.673540</td>\n",
              "    </tr>\n",
              "    <tr>\n",
              "      <th>1</th>\n",
              "      <td>mid</td>\n",
              "      <td>Mainstream</td>\n",
              "      <td>3340</td>\n",
              "      <td>7275</td>\n",
              "      <td>45.910653</td>\n",
              "    </tr>\n",
              "    <tr>\n",
              "      <th>2</th>\n",
              "      <td>mid</td>\n",
              "      <td>Premium</td>\n",
              "      <td>2431</td>\n",
              "      <td>7275</td>\n",
              "      <td>33.415808</td>\n",
              "    </tr>\n",
              "    <tr>\n",
              "      <th>3</th>\n",
              "      <td>old</td>\n",
              "      <td>Budget</td>\n",
              "      <td>14058</td>\n",
              "      <td>39194</td>\n",
              "      <td>35.867735</td>\n",
              "    </tr>\n",
              "    <tr>\n",
              "      <th>4</th>\n",
              "      <td>old</td>\n",
              "      <td>Mainstream</td>\n",
              "      <td>14240</td>\n",
              "      <td>39194</td>\n",
              "      <td>36.332092</td>\n",
              "    </tr>\n",
              "    <tr>\n",
              "      <th>5</th>\n",
              "      <td>old</td>\n",
              "      <td>Premium</td>\n",
              "      <td>10896</td>\n",
              "      <td>39194</td>\n",
              "      <td>27.800173</td>\n",
              "    </tr>\n",
              "    <tr>\n",
              "      <th>6</th>\n",
              "      <td>young</td>\n",
              "      <td>Budget</td>\n",
              "      <td>8908</td>\n",
              "      <td>26168</td>\n",
              "      <td>34.041577</td>\n",
              "    </tr>\n",
              "    <tr>\n",
              "      <th>7</th>\n",
              "      <td>young</td>\n",
              "      <td>Mainstream</td>\n",
              "      <td>11665</td>\n",
              "      <td>26168</td>\n",
              "      <td>44.577346</td>\n",
              "    </tr>\n",
              "    <tr>\n",
              "      <th>8</th>\n",
              "      <td>young</td>\n",
              "      <td>Premium</td>\n",
              "      <td>5595</td>\n",
              "      <td>26168</td>\n",
              "      <td>21.381076</td>\n",
              "    </tr>\n",
              "  </tbody>\n",
              "</table>\n",
              "</div>"
            ],
            "text/plain": [
              "  age_group customer_segment      0  count  percentage\n",
              "0       mid           Budget   1504   7275   20.673540\n",
              "1       mid       Mainstream   3340   7275   45.910653\n",
              "2       mid          Premium   2431   7275   33.415808\n",
              "3       old           Budget  14058  39194   35.867735\n",
              "4       old       Mainstream  14240  39194   36.332092\n",
              "5       old          Premium  10896  39194   27.800173\n",
              "6     young           Budget   8908  26168   34.041577\n",
              "7     young       Mainstream  11665  26168   44.577346\n",
              "8     young          Premium   5595  26168   21.381076"
            ]
          },
          "metadata": {
            "tags": []
          },
          "execution_count": 24
        }
      ]
    },
    {
      "cell_type": "code",
      "metadata": {
        "colab": {
          "base_uri": "https://localhost:8080/",
          "height": 366
        },
        "id": "v-FYMU8GzFuH",
        "outputId": "8349893f-4ab0-41ca-fd00-59ee59b2311f"
      },
      "source": [
        "plt.figure(figsize=(17,5))\n",
        "sns.barplot(x='customer_segment',y='percentage',hue='age_group',data=new) # add hue to disect the view and add the legend\n",
        "plt.legend(loc='center', bbox_to_anchor=(1.1, 0.5)) \n",
        "plt.title('% distribution of Age Group')\n",
        "# old and young < mid in premium vice versa in budget."
      ],
      "execution_count": null,
      "outputs": [
        {
          "output_type": "execute_result",
          "data": {
            "text/plain": [
              "Text(0.5, 1.0, '% distribution of Age Group')"
            ]
          },
          "metadata": {
            "tags": []
          },
          "execution_count": 26
        },
        {
          "output_type": "display_data",
          "data": {
            "image/png": "[encoded data removed]",
            "text/plain": [
              "<Figure size 1224x360 with 1 Axes>"
            ]
          },
          "metadata": {
            "tags": [],
            "needs_background": "light"
          }
        }
      ]
    }
  ]
}